{
 "cells": [
  {
   "cell_type": "code",
   "execution_count": 1,
   "metadata": {},
   "outputs": [
    {
     "name": "stdout",
     "output_type": "stream",
     "text": [
      "Collecting scikit-learn\n",
      "  Downloading scikit_learn-1.3.2-cp39-cp39-win_amd64.whl (9.3 MB)\n",
      "     ---------------------------------------- 9.3/9.3 MB 1.7 MB/s eta 0:00:00\n",
      "Collecting matplotlib\n",
      "  Downloading matplotlib-3.8.2-cp39-cp39-win_amd64.whl (7.6 MB)\n",
      "     ---------------------------------------- 7.6/7.6 MB 3.8 MB/s eta 0:00:00\n",
      "Collecting numpy\n",
      "  Downloading numpy-1.26.3-cp39-cp39-win_amd64.whl (15.8 MB)\n",
      "     ---------------------------------------- 15.8/15.8 MB 5.8 MB/s eta 0:00:00\n",
      "Collecting pandas\n",
      "  Downloading pandas-2.1.4-cp39-cp39-win_amd64.whl (10.8 MB)\n",
      "     ---------------------------------------- 10.8/10.8 MB 5.2 MB/s eta 0:00:00\n",
      "Collecting elasticsearch\n",
      "  Downloading elasticsearch-8.11.1-py3-none-any.whl (412 kB)\n",
      "     -------------------------------------- 412.8/412.8 KB 2.1 MB/s eta 0:00:00\n",
      "Collecting python-telegram-bot\n",
      "  Downloading python_telegram_bot-20.7-py3-none-any.whl (552 kB)\n",
      "     ------------------------------------- 552.6/552.6 KB 11.5 MB/s eta 0:00:00\n",
      "Collecting joblib>=1.1.1\n",
      "  Downloading joblib-1.3.2-py3-none-any.whl (302 kB)\n",
      "     -------------------------------------- 302.2/302.2 KB 2.7 MB/s eta 0:00:00\n",
      "Collecting scipy>=1.5.0\n",
      "  Downloading scipy-1.11.4-cp39-cp39-win_amd64.whl (44.3 MB)\n",
      "     ---------------------------------------- 44.3/44.3 MB 6.4 MB/s eta 0:00:00\n",
      "Collecting threadpoolctl>=2.0.0\n",
      "  Downloading threadpoolctl-3.2.0-py3-none-any.whl (15 kB)\n",
      "Collecting fonttools>=4.22.0\n",
      "  Downloading fonttools-4.47.2-cp39-cp39-win_amd64.whl (2.2 MB)\n",
      "     ---------------------------------------- 2.2/2.2 MB 6.6 MB/s eta 0:00:00\n",
      "Collecting contourpy>=1.0.1\n",
      "  Downloading contourpy-1.2.0-cp39-cp39-win_amd64.whl (181 kB)\n",
      "     -------------------------------------- 181.9/181.9 KB 5.5 MB/s eta 0:00:00\n",
      "Collecting cycler>=0.10\n",
      "  Downloading cycler-0.12.1-py3-none-any.whl (8.3 kB)\n",
      "Collecting pillow>=8\n",
      "  Downloading pillow-10.2.0-cp39-cp39-win_amd64.whl (2.6 MB)\n",
      "     ---------------------------------------- 2.6/2.6 MB 7.6 MB/s eta 0:00:00\n",
      "Collecting kiwisolver>=1.3.1\n",
      "  Downloading kiwisolver-1.4.5-cp39-cp39-win_amd64.whl (56 kB)\n",
      "     ---------------------------------------- 56.2/56.2 KB 2.9 MB/s eta 0:00:00\n",
      "Requirement already satisfied: packaging>=20.0 in c:\\users\\admin\\appdata\\roaming\\python\\python39\\site-packages (from matplotlib) (23.2)\n",
      "Collecting pyparsing>=2.3.1\n",
      "  Downloading pyparsing-3.1.1-py3-none-any.whl (103 kB)\n",
      "     -------------------------------------- 103.1/103.1 KB 5.8 MB/s eta 0:00:00\n",
      "Requirement already satisfied: python-dateutil>=2.7 in c:\\users\\admin\\appdata\\roaming\\python\\python39\\site-packages (from matplotlib) (2.8.2)\n",
      "Collecting importlib-resources>=3.2.0\n",
      "  Downloading importlib_resources-6.1.1-py3-none-any.whl (33 kB)\n",
      "Collecting tzdata>=2022.1\n",
      "  Downloading tzdata-2023.4-py2.py3-none-any.whl (346 kB)\n",
      "     ------------------------------------- 346.6/346.6 KB 10.8 MB/s eta 0:00:00\n",
      "Collecting pytz>=2020.1\n",
      "  Downloading pytz-2023.3.post1-py2.py3-none-any.whl (502 kB)\n",
      "     -------------------------------------- 502.5/502.5 KB 7.8 MB/s eta 0:00:00\n",
      "Collecting elastic-transport<9,>=8\n",
      "  Downloading elastic_transport-8.11.0-py3-none-any.whl (59 kB)\n",
      "     ---------------------------------------- 59.8/59.8 KB 3.3 MB/s eta 0:00:00\n",
      "Collecting httpx~=0.25.2\n",
      "  Downloading httpx-0.25.2-py3-none-any.whl (74 kB)\n",
      "     ---------------------------------------- 75.0/75.0 KB ? eta 0:00:00\n",
      "Requirement already satisfied: urllib3<3,>=1.26.2 in c:\\users\\admin\\appdata\\local\\programs\\python\\python39\\lib\\site-packages (from elastic-transport<9,>=8->elasticsearch) (2.1.0)\n",
      "Requirement already satisfied: certifi in c:\\users\\admin\\appdata\\local\\programs\\python\\python39\\lib\\site-packages (from elastic-transport<9,>=8->elasticsearch) (2023.7.22)\n",
      "Collecting anyio\n",
      "  Downloading anyio-4.2.0-py3-none-any.whl (85 kB)\n",
      "     ---------------------------------------- 85.5/85.5 KB 4.7 MB/s eta 0:00:00\n",
      "Collecting httpcore==1.*\n",
      "  Downloading httpcore-1.0.2-py3-none-any.whl (76 kB)\n",
      "     ---------------------------------------- 76.9/76.9 KB ? eta 0:00:00\n",
      "Collecting sniffio\n",
      "  Downloading sniffio-1.3.0-py3-none-any.whl (10 kB)\n",
      "Requirement already satisfied: idna in c:\\users\\admin\\appdata\\local\\programs\\python\\python39\\lib\\site-packages (from httpx~=0.25.2->python-telegram-bot) (3.4)\n",
      "Collecting h11<0.15,>=0.13\n",
      "  Downloading h11-0.14.0-py3-none-any.whl (58 kB)\n",
      "     ---------------------------------------- 58.3/58.3 KB 3.0 MB/s eta 0:00:00\n",
      "Requirement already satisfied: zipp>=3.1.0 in c:\\users\\admin\\appdata\\roaming\\python\\python39\\site-packages (from importlib-resources>=3.2.0->matplotlib) (3.17.0)\n",
      "Requirement already satisfied: six>=1.5 in c:\\users\\admin\\appdata\\roaming\\python\\python39\\site-packages (from python-dateutil>=2.7->matplotlib) (1.16.0)\n",
      "Requirement already satisfied: exceptiongroup>=1.0.2 in c:\\users\\admin\\appdata\\roaming\\python\\python39\\site-packages (from anyio->httpx~=0.25.2->python-telegram-bot) (1.1.3)\n",
      "Requirement already satisfied: typing-extensions>=4.1 in c:\\users\\admin\\appdata\\roaming\\python\\python39\\site-packages (from anyio->httpx~=0.25.2->python-telegram-bot) (4.8.0)\n",
      "Installing collected packages: pytz, tzdata, threadpoolctl, sniffio, pyparsing, pillow, numpy, kiwisolver, joblib, importlib-resources, h11, fonttools, elastic-transport, cycler, scipy, pandas, httpcore, elasticsearch, contourpy, anyio, scikit-learn, matplotlib, httpx, python-telegram-bot\n",
      "Successfully installed anyio-4.2.0 contourpy-1.2.0 cycler-0.12.1 elastic-transport-8.11.0 elasticsearch-8.11.1 fonttools-4.47.2 h11-0.14.0 httpcore-1.0.2 httpx-0.25.2 importlib-resources-6.1.1 joblib-1.3.2 kiwisolver-1.4.5 matplotlib-3.8.2 numpy-1.26.3 pandas-2.1.4 pillow-10.2.0 pyparsing-3.1.1 python-telegram-bot-20.7 pytz-2023.3.post1 scikit-learn-1.3.2 scipy-1.11.4 sniffio-1.3.0 threadpoolctl-3.2.0 tzdata-2023.4\n"
     ]
    },
    {
     "name": "stderr",
     "output_type": "stream",
     "text": [
      "WARNING: You are using pip version 22.0.4; however, version 23.3.2 is available.\n",
      "You should consider upgrading via the 'C:\\Users\\Admin\\AppData\\Local\\Programs\\Python\\Python39\\python.exe -m pip install --upgrade pip' command.\n"
     ]
    }
   ],
   "source": [
    "!pip3 install -U scikit-learn matplotlib numpy pandas elasticsearch python-telegram-bot"
   ]
  },
  {
   "cell_type": "code",
   "execution_count": 2,
   "metadata": {},
   "outputs": [],
   "source": [
    "import numpy as np\n",
    "import pandas as pd\n",
    "from sklearn.ensemble import IsolationForest\n",
    "from sklearn.preprocessing import StandardScaler\n",
    "from telegram import Bot\n",
    "import asyncio\n",
    "\n"
   ]
  },
  {
   "cell_type": "code",
   "execution_count": 3,
   "metadata": {},
   "outputs": [
    {
     "name": "stdout",
     "output_type": "stream",
     "text": [
      "{'address': '0x2fe711799016101950d2126687ee944ff359c3b7', 'num_transactions': 1, 'balance': 1.0, 'Time': 59}\n",
      "{'address': '0x33508f8e25c2ca2e9f0b48a20e6da6fce632d111', 'num_transactions': 2, 'balance': 0.017, 'Time': 60}\n",
      "{'address': '0x16cd96e913e60b4806918a53a771c630fb322795', 'num_transactions': 2, 'balance': 0.001, 'Time': 61}\n",
      "{'address': '0x6f2c52a7258022304db41a9568c888540b701148', 'num_transactions': 1, 'balance': 0.016347146, 'Time': 65}\n",
      "{'address': '0x103e37ad040437420f53c1c5a2869ac1d6149331', 'num_transactions': 1, 'balance': 0.113908139, 'Time': 66}\n",
      "{'address': '0x5cea0fb93ca3fc25324de3307f40edd79338980c', 'num_transactions': 1, 'balance': 0.9979559, 'Time': 68}\n",
      "{'address': '0x049029dd41661e58f99271a0112dfd34695f7000', 'num_transactions': 2, 'balance': 1.016263146, 'Time': 112}\n",
      "{'address': '0x9e6316f44baeeee5d41a1070516cc5fa47baf227', 'num_transactions': 2, 'balance': 0.699916, 'Time': 118}\n",
      "{'address': '0x3c2a948a01975757864303d05bbf19df1af9c454', 'num_transactions': 2, 'balance': 0.001, 'Time': 62}\n",
      "{'address': '0x8b24dee23df99cba0560f0ec798ddb1505c70299', 'num_transactions': 3, 'balance': 2.397201901, 'Time': 67}\n",
      "   num_transactions   balance\n",
      "0                 1  1.000000\n",
      "1                 2  0.017000\n",
      "2                 2  0.001000\n",
      "3                 1  0.016347\n",
      "4                 1  0.113908\n",
      "5                 1  0.997956\n",
      "6                 2  1.016263\n",
      "7                 2  0.699916\n",
      "8                 2  0.001000\n",
      "9                 3  2.397202\n"
     ]
    }
   ],
   "source": [
    "from elasticsearch import Elasticsearch\n",
    "\n",
    "es = Elasticsearch(\n",
    "    \"http://34.143.255.36:9200/\",basic_auth=(\"elastic\",\"elastic2023\"))\n",
    "index_name = 'it5384_group8_problem5_index'\n",
    "query = {\"query\": {\"match_all\": {}}}\n",
    "\n",
    "result = es.search(index=index_name, body=query)\n",
    "\n",
    "hits = result.get(\"hits\", {}).get(\"hits\", [])\n",
    "result_query = [hit[\"_source\"] for hit in hits]\n",
    "for document in result_query:\n",
    "    print(document)\n",
    "\n",
    "raw_df = pd.json_normalize(result_query)\n",
    "# df = raw_df.drop('address',axis=1)\n",
    "# print(df)\n",
    "df = raw_df.drop(['Time',\"address\"],axis=1)\n",
    "\n",
    "print(df)\n"
   ]
  },
  {
   "cell_type": "code",
   "execution_count": 4,
   "metadata": {},
   "outputs": [
    {
     "name": "stdout",
     "output_type": "stream",
     "text": [
      "[[-1.09321633  0.5108024 ]\n",
      " [ 0.46852129 -0.83197376]\n",
      " [ 0.46852129 -0.85382973]\n",
      " [-1.09321633 -0.83286555]\n",
      " [-1.09321633 -0.69959742]\n",
      " [-1.09321633  0.50801016]\n",
      " [ 0.46852129  0.53301783]\n",
      " [ 0.46852129  0.10088822]\n",
      " [ 0.46852129 -0.85382973]\n",
      " [ 2.0302589   2.41937757]]\n"
     ]
    }
   ],
   "source": [
    "# The features are the properties of a wallet, such as balance, number of transactions, etc.\n",
    "# Replace this with your actual data.\n",
    "\n",
    "features = np.array(df)\n",
    "scaler = StandardScaler()\n",
    "features_normalized = scaler.fit_transform(features)\n",
    "# Define the Isolation Forest model.\n",
    "# Adjust the 'n_estimators' and 'contamination' parameters as per your specific requirements.\n",
    "model = IsolationForest(n_estimators=100, max_samples='auto', contamination=0.1, max_features=1.0)\n",
    "\n",
    "# Fit the model to the training data.\n",
    "model.fit(features_normalized)\n",
    "anomaly_scores = model.decision_function(features_normalized)\n",
    "threshold = -0.5 # This threshold value can be adjusted as per your specific requirements.\n",
    "risky_wallets = features[anomaly_scores < threshold]\n",
    "print(features_normalized)"
   ]
  },
  {
   "cell_type": "code",
   "execution_count": 6,
   "metadata": {},
   "outputs": [
    {
     "name": "stdout",
     "output_type": "stream",
     "text": [
      "[ 1  1  1  1  1  1  1  1  1 -1]\n",
      "Wallet 0x2fe711799016101950d2126687ee944ff359c3b7 is normal.\n",
      "Wallet 0x33508f8e25c2ca2e9f0b48a20e6da6fce632d111 is normal.\n",
      "Wallet 0x16cd96e913e60b4806918a53a771c630fb322795 is normal.\n",
      "Wallet 0x6f2c52a7258022304db41a9568c888540b701148 is normal.\n",
      "Wallet 0x103e37ad040437420f53c1c5a2869ac1d6149331 is normal.\n",
      "Wallet 0x5cea0fb93ca3fc25324de3307f40edd79338980c is normal.\n",
      "Wallet 0x049029dd41661e58f99271a0112dfd34695f7000 is normal.\n",
      "Wallet 0x9e6316f44baeeee5d41a1070516cc5fa47baf227 is normal.\n",
      "Wallet 0x3c2a948a01975757864303d05bbf19df1af9c454 is normal.\n",
      "Wallet 0x8b24dee23df99cba0560f0ec798ddb1505c70299 is risky.\n"
     ]
    }
   ],
   "source": [
    "# init bot telegram\n",
    "bot = Bot(token='6845513846:AAHbmWW4Hhc35lnpIwTKW63o5RiZzA3-wSQ')\n",
    "\n",
    "channel_id = '@group8_bigdata'\n",
    "\n",
    "# Get the anomaly labels for each wallet in the dataset.\n",
    "labels = model.predict(features_normalized)\n",
    "print(labels)\n",
    "# Check the anomaly labels.\n",
    "for i, label in enumerate(labels):\n",
    "    if label == -1:\n",
    "        print(f\"Wallet {raw_df['address'][i]} is risky.\")\n",
    "        await bot.send_message(chat_id=channel_id, text=f\"Wallet {raw_df['address'][i]} is risky.\")\n",
    "\n",
    "    else:\n",
    "        print(f\"Wallet {raw_df['address'][i]} is normal.\")\n"
   ]
  },
  {
   "cell_type": "code",
   "execution_count": 88,
   "metadata": {},
   "outputs": [
    {
     "data": {
      "image/png": "[encoded data removed]",
      "text/plain": [
       "<Figure size 1200x600 with 1 Axes>"
      ]
     },
     "metadata": {},
     "output_type": "display_data"
    }
   ],
   "source": [
    "plt.figure(figsize=(12, 6))\n",
    "plt.hist(anomaly_scores, bins=50)\n",
    "plt.xlabel('Anomaly Score')\n",
    "plt.ylabel('Number of Wallets')\n",
    "plt.title('Distribution of Anomaly Scores')\n",
    "plt.axvline(x=threshold, color='red', linestyle='--')\n",
    "plt.show()"
   ]
  }
 ],
 "metadata": {
  "kernelspec": {
   "display_name": "Python 3",
   "language": "python",
   "name": "python3"
  },
  "language_info": {
   "codemirror_mode": {
    "name": "ipython",
    "version": 3
   },
   "file_extension": ".py",
   "mimetype": "text/x-python",
   "name": "python",
   "nbconvert_exporter": "python",
   "pygments_lexer": "ipython3",
   "version": "3.9.13"
  }
 },
 "nbformat": 4,
 "nbformat_minor": 2
}
